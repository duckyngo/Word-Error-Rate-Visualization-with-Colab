{
  "nbformat": 4,
  "nbformat_minor": 0,
  "metadata": {
    "colab": {
      "name": "WERCalculationAndVisualization.ipynb",
      "provenance": [],
      "collapsed_sections": [],
      "include_colab_link": true
    },
    "kernelspec": {
      "name": "python3",
      "display_name": "Python 3"
    },
    "language_info": {
      "name": "python"
    }
  },
  "cells": [
    {
      "cell_type": "markdown",
      "metadata": {
        "id": "view-in-github",
        "colab_type": "text"
      },
      "source": [
        "<a href=\"https://colab.research.google.com/github/duckyngo/Word-Error-Rate-Visualization-with-Colab/blob/main/WERCalculationAndVisualization.ipynb\" target=\"_parent\"><img src=\"https://colab.research.google.com/assets/colab-badge.svg\" alt=\"Open In Colab\"/></a>"
      ]
    },
    {
      "cell_type": "code",
      "source": [
        "import json\n",
        "from IPython.display import HTML, display\n",
        "try:\n",
        "  import jiwer\n",
        "except:\n",
        "  !pip install jiwer\n",
        "  import jiwer\n",
        "\n",
        "def set_css():\n",
        "  display(HTML('''\n",
        "  <style>\n",
        "    pre {\n",
        "        white-space: pre-wrap;\n",
        "    }\n",
        "  </style>\n",
        "  '''))\n",
        "\n",
        "# Turn on line wrapping on Colab Ref: https://github.com/jupyter/notebook/issues/6274\n",
        "get_ipython().events.register('pre_run_cell', set_css)\n",
        "\n",
        "\n",
        "def wer(ref, hyp ,debug=False):\n",
        "    r = ref.split()\n",
        "    h = hyp.split()\n",
        "    #costs will holds the costs, like in the Levenshtein distance algorithm\n",
        "    costs = [[0 for inner in range(len(h)+1)] for outer in range(len(r)+1)]\n",
        "    # backtrace will hold the operations we've done.\n",
        "    # so we could later backtrace, like the WER algorithm requires us to.\n",
        "    backtrace = [[0 for inner in range(len(h)+1)] for outer in range(len(r)+1)]\n",
        "\n",
        "    OP_OK = 0\n",
        "    OP_SUB = 1\n",
        "    OP_INS = 2\n",
        "    OP_DEL = 3\n",
        "\n",
        "    DEL_PENALTY=1 # Tact\n",
        "    INS_PENALTY=1 # Tact\n",
        "    SUB_PENALTY=1 # Tact\n",
        "    # First column represents the case where we achieve zero\n",
        "    # hypothesis words by deleting all reference words.\n",
        "    for i in range(1, len(r)+1):\n",
        "        costs[i][0] = DEL_PENALTY*i\n",
        "        backtrace[i][0] = OP_DEL\n",
        "\n",
        "    # First row represents the case where we achieve the hypothesis\n",
        "    # by inserting all hypothesis words into a zero-length reference.\n",
        "    for j in range(1, len(h) + 1):\n",
        "        costs[0][j] = INS_PENALTY * j\n",
        "        backtrace[0][j] = OP_INS\n",
        "\n",
        "    # computation\n",
        "    for i in range(1, len(r)+1):\n",
        "        for j in range(1, len(h)+1):\n",
        "            if r[i-1] == h[j-1]:\n",
        "                costs[i][j] = costs[i-1][j-1]\n",
        "                backtrace[i][j] = OP_OK\n",
        "            else:\n",
        "                substitutionCost = costs[i-1][j-1] + SUB_PENALTY # penalty is always 1\n",
        "                insertionCost    = costs[i][j-1] + INS_PENALTY   # penalty is always 1\n",
        "                deletionCost     = costs[i-1][j] + DEL_PENALTY   # penalty is always 1\n",
        "\n",
        "                costs[i][j] = min(substitutionCost, insertionCost, deletionCost)\n",
        "                if costs[i][j] == substitutionCost:\n",
        "                    backtrace[i][j] = OP_SUB\n",
        "                elif costs[i][j] == insertionCost:\n",
        "                    backtrace[i][j] = OP_INS\n",
        "                else:\n",
        "                    backtrace[i][j] = OP_DEL\n",
        "\n",
        "    # back trace though the best route:\n",
        "    i = len(r)\n",
        "    j = len(h)\n",
        "    numSub = 0\n",
        "    numDel = 0\n",
        "    numIns = 0\n",
        "    numCor = 0\n",
        "    if debug:\n",
        "        lines = []\n",
        "        compares = []\n",
        "    while i > 0 or j > 0:\n",
        "        if backtrace[i][j] == OP_OK:\n",
        "            numCor += 1\n",
        "            i-=1\n",
        "            j-=1\n",
        "            if debug:\n",
        "                lines.append(\"OK\\t\" + r[i]+\"\\t\"+h[j])\n",
        "                compares.append(colored(0, 0, 0, h[j]))\n",
        "        elif backtrace[i][j] == OP_SUB:\n",
        "            numSub +=1\n",
        "            i-=1\n",
        "            j-=1\n",
        "            if debug:\n",
        "                lines.append(\"SUB\\t\" + r[i]+\"\\t\"+h[j])\n",
        "                compares.append(colored(0, 255, 0, h[j]) +  colored(0, 0, 0, f'({r[i]})'))\n",
        "        elif backtrace[i][j] == OP_INS:\n",
        "            numIns += 1\n",
        "            j-=1\n",
        "            if debug:\n",
        "                lines.append(\"INS\\t\" + \"****\" + \"\\t\" + h[j])\n",
        "                compares.append(colored(0, 0, 255, h[j]))\n",
        "        elif backtrace[i][j] == OP_DEL:\n",
        "            numDel += 1\n",
        "            i-=1\n",
        "            if debug:\n",
        "                lines.append(\"DEL\\t\" + r[i]+\"\\t\"+\"****\")\n",
        "                compares.append(colored(255, 0, 0, r[i]))\n",
        "    if debug:\n",
        "        # print(\"OP\\tREF\\tHYP\")\n",
        "        # lines = reversed(lines)\n",
        "        # for line in lines:\n",
        "        #     print(line)\n",
        "\n",
        "        compares = reversed(compares)\n",
        "        for line in compares:\n",
        "          print(line, end=\" \")\n",
        "        # print(\"Ncor \" + str(numCor))\n",
        "        # print(\"Nsub \" + str(numSub))\n",
        "        # print(\"Ndel \" + str(numDel))\n",
        "        # print(\"Nins \" + str(numIns))\n",
        "    wer_result = round( (numSub + numDel + numIns) / (float) (len(r)), 3)\n",
        "    return {'WER':wer_result, 'Cor':numCor, 'Sub':numSub, 'Ins':numIns, 'Del':numDel}, compares\n",
        "\n",
        "\n",
        "def colored(r, g, b, text):\n",
        "    return \"\\033[38;2;{};{};{}m{} \\033[38;2;255;255;255m\".format(r, g, b, text)\n",
        "\n",
        "def strike(text, color=None):\n",
        "    if color:\n",
        "      return colored(0, 255, 0, ''.join([u'\\u0336{}'.format(c) for c in text]))\n",
        "      \n",
        "    else:\n",
        "      return  colored(0, 0, 0, ''.join([u'\\u0332{}'.format(c) for c in text]))\n",
        "\n",
        "#@title Calculate and visualize WER { run: \"auto\" }\n",
        "\n",
        "remove_punctuation = True #@param {type:\"boolean\"}\n",
        "input_ref='\\uB2EC\\uBCF4\\uB2E4 \\uC774 \\uC810 \\uCE60 \\uD37C\\uC13C\\uD2B8\\uD3EC\\uC778\\uD2B8 \\uB0AE\\uC544\\uC84C\\uC2B5\\uB2C8\\uB2E4 \\uD314\\uC2ED \\uD37C\\uC13C\\uD2B8\\uB97C \\uB118\\uC5B4 \\uD3EC\\uD654 \\uC0C1\\uD0DC\\uC600\\uB358 \\uC218\\uB3C4\\uAD8C \\uC911\\uC9C4 \\uBCD1\\uC0C1 \\uAC00\\uB3D9\\uB960\\uB3C4 \\uC721\\uC2ED\\uC774 \\uC810 \\uC0BC \\uD37C\\uC13C\\uD2B8\\uB85C \\uB5A8\\uC5B4\\uC84C\\uC2B5\\uB2C8\\uB2E4 \\uC9C0\\uB09C\\uB2EC \\uC0BC\\uC2ED\\uC77C \\uCE60\\uC2ED \\uD37C\\uC13C\\uD2B8 \\uC544\\uB798\\uB85C \\uB5A8\\uC5B4\\uC9C4 \\uB4A4 \\uB098\\uD758 \\uC5F0\\uC18D \\uD558\\uB77D \\uC149\\uB2C8\\uB2E4 \\uC9C0\\uB09C\\uB2EC \\uC774\\uC2ED \\uAD6C\\uC77C \\uD558\\uB8E8\\uC5D0\\uB9CC \\uC624\\uBC31 \\uC5EC\\uB4E0 \\uBA85\\uC0C1\\uC744 \\uD655\\uCDA9\\uD558\\uB294 \\uB4F1 \\uBCD1\\uC0C1 \\uBD80\\uC871 \\uC0C1\\uD669\\uC774 \\uB098\\uC544\\uC9C0\\uBA74\\uC11C \\uC804\\uAD6D\\uC5D0\\uC11C \\uD558\\uB8E8 \\uB118\\uAC8C \\uC785\\uC6D0\\uC744 \\uAE30\\uB2E4\\uB9AC\\uB294 \\uC0AC\\uB78C\\uC740 \\uB2F7\\uC0C8\\uC9F8 \\uD55C \\uBA85\\uB3C4 \\uC5C6\\uC5C8\\uC2B5\\uB2C8\\uB2E4 \\uBC29\\uC5ED \\uB2F9\\uAD6D\\uC740 \\uC774\\uB2EC \\uB9D0\\uAE4C\\uC9C0 \\uC911\\uC99D \\uD658\\uC790 \\uBCD1\\uC0C1 \\uCC9C \\uC624\\uBC31 \\uC77C\\uD754 \\uC5EC\\uB35F\\uAC1C\\uB97C \\uBE44\\uB86F\\uD574 \\uC721\\uCC9C \\uAD6C\\uBC31 \\uB9C8\\uD754 \\uB124\\uAC1C\\uC758 \\uC785\\uC6D0 \\uBCD1\\uC0C1\\uC744 \\uD655\\uCDA9\\uD574 \\uD558\\uB8E8 \\uD655\\uC9C4 \\uB9CC \\uBA85\\uC5D0\\uB3C4 \\uB300\\uC751\\uD558\\uACA0\\uB2E4\\uB294 \\uBAA9\\uD45C\\uC785\\uB2C8\\uB2E4' #@param {type:\"string\"}\n",
        "input_hyp='\\uB2EC\\uBCF4\\uB2E4 \\uC774 \\uC810 \\uCE60 \\uD37C\\uC13C\\uD2B8\\uD3EC\\uC778\\uD2B8 \\uB0AE\\uC544\\uC84C\\uC2B5\\uB2C8\\uB2E4 \\uD314\\uC2ED \\uD37C\\uC13C\\uD2B8\\uB97C \\uB118\\uC5B4 \\uD3EC\\uD55C \\uC0C1\\uD0DC\\uC600\\uB358 \\uC218\\uB3C4\\uAD8C \\uC911\\uC99D\\uBCD1\\uC0C1 \\uAC00\\uB3C5\\uB960\\uB3C4 \\uC721\\uC2ED\\uC774 \\uC810 \\uC0BC \\uD37C\\uC13C\\uD2B8\\uB85C \\uB5A8\\uC5B4\\uC84C\\uC2B5\\uB2C8\\uB2E4 \\uC9C0\\uB09C\\uB2EC \\uC0BC\\uC2ED\\uC77C \\uCE60\\uC2ED \\uD37C\\uC13C\\uD2B8 \\uC544\\uB798\\uB85C \\uB5A8\\uC5B4\\uC9C4 \\uB4A4 \\uB098\\uD750\\uC5F0 \\uC18D \\uD558\\uB77D\\uD230\\uB2C8\\uB2E4 \\uC9C0\\uB09C \\uB2EC \\uC774\\uC2ED \\uAD6C\\uC77C \\uD558\\uB8E8\\uC5D0\\uB9CC \\uC624\\uBC31 \\uC5EC\\uB4E0 \\uBCD1\\uC0C1\\uC744 \\uD655\\uCDA9\\uD558\\uB294 \\uB4F1 \\uBCD1\\uC0C1 \\uBD80\\uC871 \\uC0C1\\uD669\\uC774 \\uB098\\uC544\\uC9C0\\uBA74\\uC11C \\uC804\\uAD6D\\uC5D0\\uC11C \\uD558\\uB8E8 \\uB118\\uAC8C \\uC774 \\uBC88\\uC744 \\uAE30\\uB2E4\\uB9AC\\uB294 \\uC0AC\\uB78C\\uC740 \\uB2E4 \\uC14B\\uC9F8 \\uD55C \\uBA85\\uB3C4 \\uC5C6\\uC5C8\\uC2B5\\uB2C8\\uB2E4 \\uBC29\\uC5ED \\uB2E8\\uAD6D\\uC740 \\uC774\\uB2EC \\uB9D0\\uAE4C\\uC9C0 \\uC911\\uC99D \\uD658\\uC790 \\uBCD1\\uC0C1 \\uCC9C \\uC624\\uBC31 \\uC77C\\uD754 \\uC5EC\\uB35F\\uAC1C\\uB97C \\uBE44\\uC211\\uD574 \\uC721\\uCC9C \\uAD6C\\uBC31 \\uB9C8\\uD754 \\uB124 \\uAC1C\\uC5D0 \\uC774\\uBC88 \\uBCD1\\uC0C1\\uC744 \\uD655\\uC911\\uD574 \\uD558\\uB8E8 \\uD655\\uC9C4 \\uB9CC\\uBA85\\uD574\\uB3C4 \\uB300\\uC751\\uD558\\uACA0\\uB2E4\\uB294 \\uBAA9\\uD45C(\\uC785)\\uB2C8\\uB2E4' #@param {type:\"string\"}\n",
        "input_json = \"\" #@param {type:\"string\"}\n",
        "\n",
        "if input_json and input_json != \"\":\n",
        "  json_data = json.loads(input_json)\n",
        "  input_ref = json_data['text']\n",
        "  input_hyp = json_data['pred_text']\n",
        "\n",
        "\n",
        "if rm_punctuation == True:\n",
        "    ref = jiwer.RemovePunctuation()(input_ref)\n",
        "    hyp = jiwer.RemovePunctuation()(input_hyp)\n",
        "else:\n",
        "    ref = input_ref\n",
        "    hyp = input_hyp\n",
        "\n",
        "print(f\"REF: {ref}\\n\")\n",
        "print(f\"HYP: {hyp}\")\n",
        "print('-'* 30)\n",
        "\n",
        "output, compares = wer(ref, hyp ,debug=True)\n",
        "\n",
        "print()\n",
        "print(colored(0, 0, 0,   f\"N CORRECT   : {output['Cor']}\"))\n",
        "print(colored(255, 0, 0, f\"N DELETE    : {output['Del']}\"))\n",
        "print(colored(0, 255, 0, f\"N SUBSTITUTE: {output['Sub']}\"))\n",
        "print(colored(0, 0, 255, f\"N INSERT    : {output['Ins']}\"))\n",
        "print(colored(0, 0, 0, f\"WER: {output['WER']}\"))"
      ],
      "metadata": {
        "colab": {
          "base_uri": "https://localhost:8080/",
          "height": 273
        },
        "id": "__Ywa-M-zkOi",
        "outputId": "db30ccce-9dc9-4eef-9a8c-78dd083a31c9",
        "cellView": "form"
      },
      "execution_count": 16,
      "outputs": [
        {
          "output_type": "display_data",
          "data": {
            "text/plain": [
              "<IPython.core.display.HTML object>"
            ],
            "text/html": [
              "\n",
              "  <style>\n",
              "    pre {\n",
              "        white-space: pre-wrap;\n",
              "    }\n",
              "  </style>\n",
              "  "
            ]
          },
          "metadata": {}
        },
        {
          "output_type": "display_data",
          "data": {
            "text/plain": [
              "<IPython.core.display.HTML object>"
            ],
            "text/html": [
              "\n",
              "  <style>\n",
              "    pre {\n",
              "        white-space: pre-wrap;\n",
              "    }\n",
              "  </style>\n",
              "  "
            ]
          },
          "metadata": {}
        },
        {
          "output_type": "display_data",
          "data": {
            "text/plain": [
              "<IPython.core.display.HTML object>"
            ],
            "text/html": [
              "\n",
              "  <style>\n",
              "    pre {\n",
              "        white-space: pre-wrap;\n",
              "    }\n",
              "  </style>\n",
              "  "
            ]
          },
          "metadata": {}
        },
        {
          "output_type": "display_data",
          "data": {
            "text/plain": [
              "<IPython.core.display.HTML object>"
            ],
            "text/html": [
              "\n",
              "  <style>\n",
              "    pre {\n",
              "        white-space: pre-wrap;\n",
              "    }\n",
              "  </style>\n",
              "  "
            ]
          },
          "metadata": {}
        },
        {
          "output_type": "display_data",
          "data": {
            "text/plain": [
              "<IPython.core.display.HTML object>"
            ],
            "text/html": [
              "\n",
              "  <style>\n",
              "    pre {\n",
              "        white-space: pre-wrap;\n",
              "    }\n",
              "  </style>\n",
              "  "
            ]
          },
          "metadata": {}
        },
        {
          "output_type": "display_data",
          "data": {
            "text/plain": [
              "<IPython.core.display.HTML object>"
            ],
            "text/html": [
              "\n",
              "  <style>\n",
              "    pre {\n",
              "        white-space: pre-wrap;\n",
              "    }\n",
              "  </style>\n",
              "  "
            ]
          },
          "metadata": {}
        },
        {
          "output_type": "display_data",
          "data": {
            "text/plain": [
              "<IPython.core.display.HTML object>"
            ],
            "text/html": [
              "\n",
              "  <style>\n",
              "    pre {\n",
              "        white-space: pre-wrap;\n",
              "    }\n",
              "  </style>\n",
              "  "
            ]
          },
          "metadata": {}
        },
        {
          "output_type": "display_data",
          "data": {
            "text/plain": [
              "<IPython.core.display.HTML object>"
            ],
            "text/html": [
              "\n",
              "  <style>\n",
              "    pre {\n",
              "        white-space: pre-wrap;\n",
              "    }\n",
              "  </style>\n",
              "  "
            ]
          },
          "metadata": {}
        },
        {
          "output_type": "display_data",
          "data": {
            "text/plain": [
              "<IPython.core.display.HTML object>"
            ],
            "text/html": [
              "\n",
              "  <style>\n",
              "    pre {\n",
              "        white-space: pre-wrap;\n",
              "    }\n",
              "  </style>\n",
              "  "
            ]
          },
          "metadata": {}
        },
        {
          "output_type": "display_data",
          "data": {
            "text/plain": [
              "<IPython.core.display.HTML object>"
            ],
            "text/html": [
              "\n",
              "  <style>\n",
              "    pre {\n",
              "        white-space: pre-wrap;\n",
              "    }\n",
              "  </style>\n",
              "  "
            ]
          },
          "metadata": {}
        },
        {
          "output_type": "display_data",
          "data": {
            "text/plain": [
              "<IPython.core.display.HTML object>"
            ],
            "text/html": [
              "\n",
              "  <style>\n",
              "    pre {\n",
              "        white-space: pre-wrap;\n",
              "    }\n",
              "  </style>\n",
              "  "
            ]
          },
          "metadata": {}
        },
        {
          "output_type": "display_data",
          "data": {
            "text/plain": [
              "<IPython.core.display.HTML object>"
            ],
            "text/html": [
              "\n",
              "  <style>\n",
              "    pre {\n",
              "        white-space: pre-wrap;\n",
              "    }\n",
              "  </style>\n",
              "  "
            ]
          },
          "metadata": {}
        },
        {
          "output_type": "display_data",
          "data": {
            "text/plain": [
              "<IPython.core.display.HTML object>"
            ],
            "text/html": [
              "\n",
              "  <style>\n",
              "    pre {\n",
              "        white-space: pre-wrap;\n",
              "    }\n",
              "  </style>\n",
              "  "
            ]
          },
          "metadata": {}
        },
        {
          "output_type": "display_data",
          "data": {
            "text/plain": [
              "<IPython.core.display.HTML object>"
            ],
            "text/html": [
              "\n",
              "  <style>\n",
              "    pre {\n",
              "        white-space: pre-wrap;\n",
              "    }\n",
              "  </style>\n",
              "  "
            ]
          },
          "metadata": {}
        },
        {
          "output_type": "display_data",
          "data": {
            "text/plain": [
              "<IPython.core.display.HTML object>"
            ],
            "text/html": [
              "\n",
              "  <style>\n",
              "    pre {\n",
              "        white-space: pre-wrap;\n",
              "    }\n",
              "  </style>\n",
              "  "
            ]
          },
          "metadata": {}
        },
        {
          "output_type": "stream",
          "name": "stdout",
          "text": [
            "REF: 달보다 이 점 칠 퍼센트포인트 낮아졌습니다 팔십 퍼센트를 넘어 포화 상태였던 수도권 중진 병상 가동률도 육십이 점 삼 퍼센트로 떨어졌습니다 지난달 삼십일 칠십 퍼센트 아래로 떨어진 뒤 나흘 연속 하락 셉니다 지난달 이십 구일 하루에만 오백 여든 명상을 확충하는 등 병상 부족 상황이 나아지면서 전국에서 하루 넘게 입원을 기다리는 사람은 닷새째 한 명도 없었습니다 방역 당국은 이달 말까지 중증 환자 병상 천 오백 일흔 여덟개를 비롯해 육천 구백 마흔 네개의 입원 병상을 확충해 하루 확진 만 명에도 대응하겠다는 목표입니다\n",
            "\n",
            "HYP: 달보다 이 점 칠 퍼센트포인트 낮아졌습니다 팔십 퍼센트를 넘어 포한 상태였던 수도권 중증병상 가독률도 육십이 점 삼 퍼센트로 떨어졌습니다 지난달 삼십일 칠십 퍼센트 아래로 떨어진 뒤 나흐연 속 하락툰니다 지난 달 이십 구일 하루에만 오백 여든 병상을 확충하는 등 병상 부족 상황이 나아지면서 전국에서 하루 넘게 이 번을 기다리는 사람은 다 셋째 한 명도 없었습니다 방역 단국은 이달 말까지 중증 환자 병상 천 오백 일흔 여덟개를 비숑해 육천 구백 마흔 네 개에 이번 병상을 확중해 하루 확진 만명해도 대응하겠다는 목표입니다\n",
            "------------------------------\n",
            "\u001b[38;2;0;0;0m달보다 \u001b[38;2;255;255;255m \u001b[38;2;0;0;0m이 \u001b[38;2;255;255;255m \u001b[38;2;0;0;0m점 \u001b[38;2;255;255;255m \u001b[38;2;0;0;0m칠 \u001b[38;2;255;255;255m \u001b[38;2;0;0;0m퍼센트포인트 \u001b[38;2;255;255;255m \u001b[38;2;0;0;0m낮아졌습니다 \u001b[38;2;255;255;255m \u001b[38;2;0;0;0m팔십 \u001b[38;2;255;255;255m \u001b[38;2;0;0;0m퍼센트를 \u001b[38;2;255;255;255m \u001b[38;2;0;0;0m넘어 \u001b[38;2;255;255;255m \u001b[38;2;0;255;0m포한 \u001b[38;2;255;255;255m\u001b[38;2;0;0;0m(포화) \u001b[38;2;255;255;255m \u001b[38;2;0;0;0m상태였던 \u001b[38;2;255;255;255m \u001b[38;2;0;0;0m수도권 \u001b[38;2;255;255;255m \u001b[38;2;255;0;0m중진 \u001b[38;2;255;255;255m \u001b[38;2;0;255;0m중증병상 \u001b[38;2;255;255;255m\u001b[38;2;0;0;0m(병상) \u001b[38;2;255;255;255m \u001b[38;2;0;255;0m가독률도 \u001b[38;2;255;255;255m\u001b[38;2;0;0;0m(가동률도) \u001b[38;2;255;255;255m \u001b[38;2;0;0;0m육십이 \u001b[38;2;255;255;255m \u001b[38;2;0;0;0m점 \u001b[38;2;255;255;255m \u001b[38;2;0;0;0m삼 \u001b[38;2;255;255;255m \u001b[38;2;0;0;0m퍼센트로 \u001b[38;2;255;255;255m \u001b[38;2;0;0;0m떨어졌습니다 \u001b[38;2;255;255;255m \u001b[38;2;0;0;0m지난달 \u001b[38;2;255;255;255m \u001b[38;2;0;0;0m삼십일 \u001b[38;2;255;255;255m \u001b[38;2;0;0;0m칠십 \u001b[38;2;255;255;255m \u001b[38;2;0;0;0m퍼센트 \u001b[38;2;255;255;255m \u001b[38;2;0;0;0m아래로 \u001b[38;2;255;255;255m \u001b[38;2;0;0;0m떨어진 \u001b[38;2;255;255;255m \u001b[38;2;0;0;0m뒤 \u001b[38;2;255;255;255m \u001b[38;2;0;255;0m나흐연 \u001b[38;2;255;255;255m\u001b[38;2;0;0;0m(나흘) \u001b[38;2;255;255;255m \u001b[38;2;0;255;0m속 \u001b[38;2;255;255;255m\u001b[38;2;0;0;0m(연속) \u001b[38;2;255;255;255m \u001b[38;2;0;255;0m하락툰니다 \u001b[38;2;255;255;255m\u001b[38;2;0;0;0m(하락) \u001b[38;2;255;255;255m \u001b[38;2;0;255;0m지난 \u001b[38;2;255;255;255m\u001b[38;2;0;0;0m(셉니다) \u001b[38;2;255;255;255m \u001b[38;2;0;255;0m달 \u001b[38;2;255;255;255m\u001b[38;2;0;0;0m(지난달) \u001b[38;2;255;255;255m \u001b[38;2;0;0;0m이십 \u001b[38;2;255;255;255m \u001b[38;2;0;0;0m구일 \u001b[38;2;255;255;255m \u001b[38;2;0;0;0m하루에만 \u001b[38;2;255;255;255m \u001b[38;2;0;0;0m오백 \u001b[38;2;255;255;255m \u001b[38;2;0;0;0m여든 \u001b[38;2;255;255;255m \u001b[38;2;0;255;0m병상을 \u001b[38;2;255;255;255m\u001b[38;2;0;0;0m(명상을) \u001b[38;2;255;255;255m \u001b[38;2;0;0;0m확충하는 \u001b[38;2;255;255;255m \u001b[38;2;0;0;0m등 \u001b[38;2;255;255;255m \u001b[38;2;0;0;0m병상 \u001b[38;2;255;255;255m \u001b[38;2;0;0;0m부족 \u001b[38;2;255;255;255m \u001b[38;2;0;0;0m상황이 \u001b[38;2;255;255;255m \u001b[38;2;0;0;0m나아지면서 \u001b[38;2;255;255;255m \u001b[38;2;0;0;0m전국에서 \u001b[38;2;255;255;255m \u001b[38;2;0;0;0m하루 \u001b[38;2;255;255;255m \u001b[38;2;0;0;0m넘게 \u001b[38;2;255;255;255m \u001b[38;2;0;0;255m이 \u001b[38;2;255;255;255m \u001b[38;2;0;255;0m번을 \u001b[38;2;255;255;255m\u001b[38;2;0;0;0m(입원을) \u001b[38;2;255;255;255m \u001b[38;2;0;0;0m기다리는 \u001b[38;2;255;255;255m \u001b[38;2;0;0;0m사람은 \u001b[38;2;255;255;255m \u001b[38;2;0;0;255m다 \u001b[38;2;255;255;255m \u001b[38;2;0;255;0m셋째 \u001b[38;2;255;255;255m\u001b[38;2;0;0;0m(닷새째) \u001b[38;2;255;255;255m \u001b[38;2;0;0;0m한 \u001b[38;2;255;255;255m \u001b[38;2;0;0;0m명도 \u001b[38;2;255;255;255m \u001b[38;2;0;0;0m없었습니다 \u001b[38;2;255;255;255m \u001b[38;2;0;0;0m방역 \u001b[38;2;255;255;255m \u001b[38;2;0;255;0m단국은 \u001b[38;2;255;255;255m\u001b[38;2;0;0;0m(당국은) \u001b[38;2;255;255;255m \u001b[38;2;0;0;0m이달 \u001b[38;2;255;255;255m \u001b[38;2;0;0;0m말까지 \u001b[38;2;255;255;255m \u001b[38;2;0;0;0m중증 \u001b[38;2;255;255;255m \u001b[38;2;0;0;0m환자 \u001b[38;2;255;255;255m \u001b[38;2;0;0;0m병상 \u001b[38;2;255;255;255m \u001b[38;2;0;0;0m천 \u001b[38;2;255;255;255m \u001b[38;2;0;0;0m오백 \u001b[38;2;255;255;255m \u001b[38;2;0;0;0m일흔 \u001b[38;2;255;255;255m \u001b[38;2;0;0;0m여덟개를 \u001b[38;2;255;255;255m \u001b[38;2;0;255;0m비숑해 \u001b[38;2;255;255;255m\u001b[38;2;0;0;0m(비롯해) \u001b[38;2;255;255;255m \u001b[38;2;0;0;0m육천 \u001b[38;2;255;255;255m \u001b[38;2;0;0;0m구백 \u001b[38;2;255;255;255m \u001b[38;2;0;0;0m마흔 \u001b[38;2;255;255;255m \u001b[38;2;0;0;255m네 \u001b[38;2;255;255;255m \u001b[38;2;0;255;0m개에 \u001b[38;2;255;255;255m\u001b[38;2;0;0;0m(네개의) \u001b[38;2;255;255;255m \u001b[38;2;0;255;0m이번 \u001b[38;2;255;255;255m\u001b[38;2;0;0;0m(입원) \u001b[38;2;255;255;255m \u001b[38;2;0;0;0m병상을 \u001b[38;2;255;255;255m \u001b[38;2;0;255;0m확중해 \u001b[38;2;255;255;255m\u001b[38;2;0;0;0m(확충해) \u001b[38;2;255;255;255m \u001b[38;2;0;0;0m하루 \u001b[38;2;255;255;255m \u001b[38;2;0;0;0m확진 \u001b[38;2;255;255;255m \u001b[38;2;255;0;0m만 \u001b[38;2;255;255;255m \u001b[38;2;0;255;0m만명해도 \u001b[38;2;255;255;255m\u001b[38;2;0;0;0m(명에도) \u001b[38;2;255;255;255m \u001b[38;2;0;0;0m대응하겠다는 \u001b[38;2;255;255;255m \u001b[38;2;0;0;0m목표입니다 \u001b[38;2;255;255;255m \n",
            "\u001b[38;2;0;0;0mN CORRECT   : 60 \u001b[38;2;255;255;255m\n",
            "\u001b[38;2;255;0;0mN DELETE    : 2 \u001b[38;2;255;255;255m\n",
            "\u001b[38;2;0;255;0mN SUBSTITUTE: 17 \u001b[38;2;255;255;255m\n",
            "\u001b[38;2;0;0;255mN INSERT    : 3 \u001b[38;2;255;255;255m\n",
            "\u001b[38;2;0;0;0mWER: 0.278 \u001b[38;2;255;255;255m\n"
          ]
        }
      ]
    },
    {
      "cell_type": "code",
      "source": [
        ""
      ],
      "metadata": {
        "id": "yvg7ln1iC9K3"
      },
      "execution_count": null,
      "outputs": []
    }
  ]
}